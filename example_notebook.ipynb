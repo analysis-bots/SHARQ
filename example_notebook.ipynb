{
 "cells": [
  {
   "cell_type": "code",
   "execution_count": null,
   "id": "initial_id",
   "metadata": {
    "collapsed": true
   },
   "outputs": [],
   "source": [
    "from src.Sharq import *"
   ]
  },
  {
   "cell_type": "code",
   "outputs": [],
   "source": [
    "# uncomment this line to create the rules set for th experiments made in the paper. The rules set wil be created under the 'Rules' folder\n",
    "# create_upload_rules_set(['adult', 'spotify_all', 'flights', 'isolet.arff'])"
   ],
   "metadata": {
    "collapsed": false
   },
   "id": "6b81cdc74a0ba74c"
  },
  {
   "cell_type": "code",
   "outputs": [],
   "source": [
    "# uncomment this line to create the rules set we used in the case study of the paper. The rule set wil be created under the 'Rules' folder\n",
    "# create_single_rules_set('adult', 4, 40, 10000, is_score_function, 0.05, 0.05)"
   ],
   "metadata": {
    "collapsed": false
   },
   "id": "f66882d6fc155201"
  },
  {
   "cell_type": "code",
   "outputs": [],
   "source": [
    "adults_rules_set = pd.read_csv('Rules/example_adult.csv')"
   ],
   "metadata": {
    "collapsed": false
   },
   "id": "e9454a0be49df9de"
  },
  {
   "cell_type": "code",
   "outputs": [],
   "source": [
    "sharq = Sharq(rules_set=adults_rules_set)\n",
    "results = sharq.run_sharq()"
   ],
   "metadata": {
    "collapsed": false
   },
   "id": "d77b21a24270e2e"
  },
  {
   "cell_type": "code",
   "outputs": [],
   "source": [
    "sharq.set_orig_dataset('adult')"
   ],
   "metadata": {
    "collapsed": false
   },
   "id": "6484ea0b8ef2b8a2"
  },
  {
   "cell_type": "code",
   "outputs": [],
   "source": [
    "top_bottom_elements = sharq.get_top_bottom(frequency_threshold=2)\n",
    "get_sharq_visualization(top_bottom_elements)"
   ],
   "metadata": {
    "collapsed": false
   },
   "id": "4e6e6960551ed3d6"
  },
  {
   "cell_type": "code",
   "outputs": [],
   "source": [
    "normalized_results = sharq.get_normalized_sharq()"
   ],
   "metadata": {
    "collapsed": false
   },
   "id": "711310905600efd0"
  }
 ],
 "metadata": {
  "kernelspec": {
   "display_name": "Python 3",
   "language": "python",
   "name": "python3"
  },
  "language_info": {
   "codemirror_mode": {
    "name": "ipython",
    "version": 2
   },
   "file_extension": ".py",
   "mimetype": "text/x-python",
   "name": "python",
   "nbconvert_exporter": "python",
   "pygments_lexer": "ipython2",
   "version": "2.7.6"
  }
 },
 "nbformat": 4,
 "nbformat_minor": 5
}
